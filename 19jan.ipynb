{
 "cells": [
  {
   "cell_type": "code",
   "execution_count": 1,
   "metadata": {},
   "outputs": [
    {
     "ename": "ModuleNotFoundError",
     "evalue": "No module named 'mysql'",
     "output_type": "error",
     "traceback": [
      "\u001b[1;31m---------------------------------------------------------------------------\u001b[0m",
      "\u001b[1;31mModuleNotFoundError\u001b[0m                       Traceback (most recent call last)",
      "\u001b[1;32m<ipython-input-1-b9517afdf817>\u001b[0m in \u001b[0;36m<module>\u001b[1;34m()\u001b[0m\n\u001b[1;32m----> 1\u001b[1;33m \u001b[1;32mimport\u001b[0m \u001b[0mmysql\u001b[0m\u001b[1;33m.\u001b[0m\u001b[0mconnector\u001b[0m\u001b[1;33m\u001b[0m\u001b[0m\n\u001b[0m\u001b[0;32m      2\u001b[0m \u001b[1;32mimport\u001b[0m \u001b[0m_mysql\u001b[0m\u001b[1;33m\u001b[0m\u001b[0m\n\u001b[0;32m      3\u001b[0m \u001b[1;32mimport\u001b[0m \u001b[0mMySQLdb\u001b[0m\u001b[1;33m\u001b[0m\u001b[0m\n",
      "\u001b[1;31mModuleNotFoundError\u001b[0m: No module named 'mysql'"
     ]
    }
   ],
   "source": [
    "import mysql.connector\n",
    "import _mysql\n",
    "import MySQLdb\n"
   ]
  },
  {
   "cell_type": "code",
   "execution_count": 2,
   "metadata": {
    "collapsed": true
   },
   "outputs": [],
   "source": [
    "db=_mysql.connect(\"127.0.0.1\",\"root\",\"umer\",\"sys\")\n",
    "db1=MySQLdb.connect(\"127.0.0.1\",\"root\",\"umer\",\"sys\")"
   ]
  },
  {
   "cell_type": "code",
   "execution_count": 3,
   "metadata": {
    "collapsed": true
   },
   "outputs": [],
   "source": [
    "c=db1.cursor()"
   ]
  },
  {
   "cell_type": "code",
   "execution_count": 4,
   "metadata": {},
   "outputs": [
    {
     "name": "stdout",
     "output_type": "stream",
     "text": [
      "6\n",
      "yum\n",
      "jafagh\n"
     ]
    }
   ],
   "source": [
    "id=6\n",
    "name=\"yum\"\n",
    "city=\"jafagh\"\n",
    "print(id)\n",
    "print(name)\n",
    "print(city)"
   ]
  },
  {
   "cell_type": "code",
   "execution_count": null,
   "metadata": {
    "collapsed": true
   },
   "outputs": [],
   "source": [
    "name=\"hizb\"\n",
    "city=\"hadid\"\n",
    "id=5"
   ]
  },
  {
   "cell_type": "code",
   "execution_count": 7,
   "metadata": {},
   "outputs": [
    {
     "data": {
      "text/plain": [
       "1"
      ]
     },
     "execution_count": 7,
     "metadata": {},
     "output_type": "execute_result"
    }
   ],
   "source": [
    "#c.execute(\"\"\"INSERT INTO new1.table1 (id, name, city) VALUES (%s, %s, %s)\"\"\",(id,name,city,))\n",
    "#c.execute(\"\"\"select * from new1.table1\"\"\")\n",
    "id=6\n",
    "c.execute(\"\"\"Select * FROM new1.table1 where id=%s\"\"\",(id,))\n",
    "#c.execute(\"\"\"Select * FROM new1.table1 where name=%s and city=%s\"\"\",(name,city,))"
   ]
  },
  {
   "cell_type": "code",
   "execution_count": 8,
   "metadata": {},
   "outputs": [
    {
     "data": {
      "text/plain": [
       "(6, 'yum', 'jafagh')"
      ]
     },
     "execution_count": 8,
     "metadata": {},
     "output_type": "execute_result"
    }
   ],
   "source": [
    "#print(c.fetchone())\n",
    "c.fetchone()\n",
    "#c.store_result()"
   ]
  },
  {
   "cell_type": "code",
   "execution_count": 10,
   "metadata": {
    "collapsed": true
   },
   "outputs": [],
   "source": [
    "db1.commit()"
   ]
  },
  {
   "cell_type": "raw",
   "metadata": {},
   "source": [
    "# Example of how to insert new values:\n",
    "conn.query(\"\"\"INSERT INTO mytable VALUES ('foo3', 'bar2')\"\"\")\n",
    "conn.commit()\n",
    "\n",
    "# Example of how to fetch table data:\n",
    "conn.query(\"\"\"SELECT * FROM mytable\"\"\")\n",
    "result = conn.store_result()\n",
    "for i in range(result.num_rows()):\n",
    "    print(result.fetch_row())"
   ]
  },
  {
   "cell_type": "code",
   "execution_count": null,
   "metadata": {
    "collapsed": true
   },
   "outputs": [],
   "source": []
  },
  {
   "cell_type": "code",
   "execution_count": 11,
   "metadata": {},
   "outputs": [
    {
     "name": "stdout",
     "output_type": "stream",
     "text": [
      "(('1', b'ahsan', b'malir'),)\n",
      "(('2', b'farhan', b'model colony'),)\n",
      "(('3', b'amjaf', b'gulshan'),)\n",
      "(('4', b'hizb', b'hadid'),)\n",
      "(('5', b'khan', b'karachi'),)\n",
      "(('6', b'yum', b'jafagh'),)\n"
     ]
    }
   ],
   "source": [
    "db.query(\"SELECT * FROM new1.table1  ;\")\n",
    "result = db.store_result()\n",
    "for i in range(result.num_rows()):\n",
    "    print(result.fetch_row())"
   ]
  },
  {
   "cell_type": "code",
   "execution_count": null,
   "metadata": {
    "collapsed": true
   },
   "outputs": [],
   "source": [
    "id=6\n",
    "name=\"umar\"\n",
    "city=\"karachi\"\n",
    "print(id)\n",
    "print(name)\n",
    "print(city)"
   ]
  },
  {
   "cell_type": "code",
   "execution_count": null,
   "metadata": {
    "collapsed": true
   },
   "outputs": [],
   "source": [
    "db.query(\"\"\"INSERT INTO `new1`.`table1` (`id`, `name`, `city`) VALUES (%d, %s, %s);\"),(id,name,city)"
   ]
  },
  {
   "cell_type": "code",
   "execution_count": null,
   "metadata": {
    "collapsed": true
   },
   "outputs": [],
   "source": [
    "c=db.cursor()"
   ]
  },
  {
   "cell_type": "code",
   "execution_count": null,
   "metadata": {
    "collapsed": true
   },
   "outputs": [],
   "source": [
    "r=db.store_result()\n",
    "# ...or...\n",
    "#r=db.use_result()"
   ]
  },
  {
   "cell_type": "code",
   "execution_count": null,
   "metadata": {
    "collapsed": true
   },
   "outputs": [],
   "source": [
    "r.fetch_row()"
   ]
  },
  {
   "cell_type": "raw",
   "metadata": {},
   "source": [
    "c=db.cursor()\n",
    "max_price=5\n",
    "c.execute(\"\"\"SELECT spam, eggs, sausage FROM breakfast\n",
    "          WHERE price < %s\"\"\", (max_price,))"
   ]
  },
  {
   "cell_type": "code",
   "execution_count": null,
   "metadata": {
    "collapsed": true
   },
   "outputs": [],
   "source": [
    "for row in r.fetch_row():\n",
    "    print(row)"
   ]
  },
  {
   "cell_type": "code",
   "execution_count": null,
   "metadata": {
    "collapsed": true
   },
   "outputs": [],
   "source": [
    "c=db.cursor()\n",
    "c.execute(\"SELECT * FROM new1.table1 ;\")\n",
    "for row in c:\n",
    "    print(row)"
   ]
  },
  {
   "cell_type": "code",
   "execution_count": null,
   "metadata": {
    "collapsed": true
   },
   "outputs": [],
   "source": [
    "import pymysql.cursors"
   ]
  },
  {
   "cell_type": "code",
   "execution_count": null,
   "metadata": {
    "collapsed": true
   },
   "outputs": [],
   "source": [
    "connection = pymysql.connect(host='localhost',\n",
    "                             user='root',\n",
    "                             password='umer',\n",
    "                             db='sys',\n",
    "                             charset='utf8mb4',\n",
    "                             cursorclass=pymysql.cursors.DictCursor)"
   ]
  },
  {
   "cell_type": "code",
   "execution_count": null,
   "metadata": {
    "collapsed": true
   },
   "outputs": [],
   "source": []
  }
 ],
 "metadata": {
  "kernelspec": {
   "display_name": "Python 3",
   "language": "python",
   "name": "python3"
  },
  "language_info": {
   "codemirror_mode": {
    "name": "ipython",
    "version": 3
   },
   "file_extension": ".py",
   "mimetype": "text/x-python",
   "name": "python",
   "nbconvert_exporter": "python",
   "pygments_lexer": "ipython3",
   "version": "3.6.1"
  }
 },
 "nbformat": 4,
 "nbformat_minor": 2
}
